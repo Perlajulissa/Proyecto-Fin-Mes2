{
 "cells": [
  {
   "cell_type": "markdown",
   "id": "4191eb84",
   "metadata": {},
   "source": [
    "### Regresión"
   ]
  },
  {
   "cell_type": "code",
   "execution_count": 952,
   "id": "0ff64795",
   "metadata": {},
   "outputs": [],
   "source": [
    "import pandas as pd\n",
    "import numpy as np"
   ]
  },
  {
   "cell_type": "code",
   "execution_count": 953,
   "id": "ed9e4881",
   "metadata": {},
   "outputs": [
    {
     "data": {
      "text/plain": [
       "(264, 7)"
      ]
     },
     "execution_count": 953,
     "metadata": {},
     "output_type": "execute_result"
    }
   ],
   "source": [
    "data = pd.read_csv('../notebookJupyter/Factory_Salary.csv')\n",
    "df = pd.DataFrame(data, columns=data.columns)\n",
    "df.shape"
   ]
  },
  {
   "cell_type": "code",
   "execution_count": 954,
   "id": "abbe8acd",
   "metadata": {},
   "outputs": [
    {
     "data": {
      "text/html": [
       "<div>\n",
       "<style scoped>\n",
       "    .dataframe tbody tr th:only-of-type {\n",
       "        vertical-align: middle;\n",
       "    }\n",
       "\n",
       "    .dataframe tbody tr th {\n",
       "        vertical-align: top;\n",
       "    }\n",
       "\n",
       "    .dataframe thead th {\n",
       "        text-align: right;\n",
       "    }\n",
       "</style>\n",
       "<table border=\"1\" class=\"dataframe\">\n",
       "  <thead>\n",
       "    <tr style=\"text-align: right;\">\n",
       "      <th></th>\n",
       "      <th>Date</th>\n",
       "      <th>Profession</th>\n",
       "      <th>Rank</th>\n",
       "      <th>Equipment</th>\n",
       "      <th>Insalubrity</th>\n",
       "      <th>Size_Production</th>\n",
       "      <th>Salary</th>\n",
       "    </tr>\n",
       "  </thead>\n",
       "  <tbody>\n",
       "    <tr>\n",
       "      <th>0</th>\n",
       "      <td>2009-01-01</td>\n",
       "      <td>Metal heater</td>\n",
       "      <td>7</td>\n",
       "      <td>Heating furnaces</td>\n",
       "      <td>22</td>\n",
       "      <td>580</td>\n",
       "      <td>26020.000000</td>\n",
       "    </tr>\n",
       "    <tr>\n",
       "      <th>1</th>\n",
       "      <td>2009-01-01</td>\n",
       "      <td>Metal heater</td>\n",
       "      <td>6</td>\n",
       "      <td>Heating furnaces</td>\n",
       "      <td>22</td>\n",
       "      <td>580</td>\n",
       "      <td>22980.000000</td>\n",
       "    </tr>\n",
       "    <tr>\n",
       "      <th>2</th>\n",
       "      <td>2009-01-01</td>\n",
       "      <td>Metal heater</td>\n",
       "      <td>5</td>\n",
       "      <td>Heating furnaces</td>\n",
       "      <td>22</td>\n",
       "      <td>580</td>\n",
       "      <td>20350.000000</td>\n",
       "    </tr>\n",
       "    <tr>\n",
       "      <th>3</th>\n",
       "      <td>2009-01-01</td>\n",
       "      <td>Metal heater</td>\n",
       "      <td>5</td>\n",
       "      <td>Heating furnaces</td>\n",
       "      <td>22</td>\n",
       "      <td>580</td>\n",
       "      <td>20350.000000</td>\n",
       "    </tr>\n",
       "    <tr>\n",
       "      <th>4</th>\n",
       "      <td>2009-01-01</td>\n",
       "      <td>Metal heater</td>\n",
       "      <td>4</td>\n",
       "      <td>Heating furnaces</td>\n",
       "      <td>22</td>\n",
       "      <td>580</td>\n",
       "      <td>18090.000000</td>\n",
       "    </tr>\n",
       "    <tr>\n",
       "      <th>...</th>\n",
       "      <td>...</td>\n",
       "      <td>...</td>\n",
       "      <td>...</td>\n",
       "      <td>...</td>\n",
       "      <td>...</td>\n",
       "      <td>...</td>\n",
       "      <td>...</td>\n",
       "    </tr>\n",
       "    <tr>\n",
       "      <th>75</th>\n",
       "      <td>2009-04-01</td>\n",
       "      <td>Cleaner</td>\n",
       "      <td>3</td>\n",
       "      <td>Pilgrim mill</td>\n",
       "      <td>18</td>\n",
       "      <td>1200</td>\n",
       "      <td>17927.647059</td>\n",
       "    </tr>\n",
       "    <tr>\n",
       "      <th>76</th>\n",
       "      <td>2009-04-01</td>\n",
       "      <td>Roller</td>\n",
       "      <td>5</td>\n",
       "      <td>Sizing mill</td>\n",
       "      <td>18</td>\n",
       "      <td>1200</td>\n",
       "      <td>23004.411765</td>\n",
       "    </tr>\n",
       "    <tr>\n",
       "      <th>77</th>\n",
       "      <td>2009-04-01</td>\n",
       "      <td>Operator</td>\n",
       "      <td>5</td>\n",
       "      <td>Sizing mill</td>\n",
       "      <td>8</td>\n",
       "      <td>1200</td>\n",
       "      <td>21204.411765</td>\n",
       "    </tr>\n",
       "    <tr>\n",
       "      <th>78</th>\n",
       "      <td>2009-04-01</td>\n",
       "      <td>Operator</td>\n",
       "      <td>5</td>\n",
       "      <td>Sizing mill</td>\n",
       "      <td>8</td>\n",
       "      <td>1200</td>\n",
       "      <td>21204.411765</td>\n",
       "    </tr>\n",
       "    <tr>\n",
       "      <th>79</th>\n",
       "      <td>2009-04-01</td>\n",
       "      <td>Operator</td>\n",
       "      <td>4</td>\n",
       "      <td>Sizing mill</td>\n",
       "      <td>8</td>\n",
       "      <td>1200</td>\n",
       "      <td>18479.117647</td>\n",
       "    </tr>\n",
       "  </tbody>\n",
       "</table>\n",
       "<p>80 rows × 7 columns</p>\n",
       "</div>"
      ],
      "text/plain": [
       "          Date    Profession  Rank         Equipment  Insalubrity   \n",
       "0   2009-01-01  Metal heater     7  Heating furnaces           22  \\\n",
       "1   2009-01-01  Metal heater     6  Heating furnaces           22   \n",
       "2   2009-01-01  Metal heater     5  Heating furnaces           22   \n",
       "3   2009-01-01  Metal heater     5  Heating furnaces           22   \n",
       "4   2009-01-01  Metal heater     4  Heating furnaces           22   \n",
       "..         ...           ...   ...               ...          ...   \n",
       "75  2009-04-01       Cleaner     3      Pilgrim mill           18   \n",
       "76  2009-04-01        Roller     5       Sizing mill           18   \n",
       "77  2009-04-01      Operator     5       Sizing mill            8   \n",
       "78  2009-04-01      Operator     5       Sizing mill            8   \n",
       "79  2009-04-01      Operator     4       Sizing mill            8   \n",
       "\n",
       "    Size_Production        Salary  \n",
       "0               580  26020.000000  \n",
       "1               580  22980.000000  \n",
       "2               580  20350.000000  \n",
       "3               580  20350.000000  \n",
       "4               580  18090.000000  \n",
       "..              ...           ...  \n",
       "75             1200  17927.647059  \n",
       "76             1200  23004.411765  \n",
       "77             1200  21204.411765  \n",
       "78             1200  21204.411765  \n",
       "79             1200  18479.117647  \n",
       "\n",
       "[80 rows x 7 columns]"
      ]
     },
     "execution_count": 954,
     "metadata": {},
     "output_type": "execute_result"
    }
   ],
   "source": [
    "df = pd.read_csv('../notebookJupyter/Factory_Salary.csv')\n",
    "df.head(80)\n"
   ]
  },
  {
   "cell_type": "code",
   "execution_count": 955,
   "id": "311e8641",
   "metadata": {},
   "outputs": [
    {
     "data": {
      "text/plain": [
       "array([7, 6, 5, 4, 3], dtype=int64)"
      ]
     },
     "execution_count": 955,
     "metadata": {},
     "output_type": "execute_result"
    }
   ],
   "source": [
    "df['Rank'].unique()"
   ]
  },
  {
   "cell_type": "code",
   "execution_count": 956,
   "id": "eddbdb30",
   "metadata": {},
   "outputs": [
    {
     "name": "stdout",
     "output_type": "stream",
     "text": [
      "<class 'pandas.core.frame.DataFrame'>\n",
      "RangeIndex: 264 entries, 0 to 263\n",
      "Data columns (total 7 columns):\n",
      " #   Column           Non-Null Count  Dtype  \n",
      "---  ------           --------------  -----  \n",
      " 0   Date             264 non-null    object \n",
      " 1   Profession       264 non-null    object \n",
      " 2   Rank             264 non-null    int64  \n",
      " 3   Equipment        264 non-null    object \n",
      " 4   Insalubrity      264 non-null    int64  \n",
      " 5   Size_Production  264 non-null    int64  \n",
      " 6   Salary           264 non-null    float64\n",
      "dtypes: float64(1), int64(3), object(3)\n",
      "memory usage: 14.6+ KB\n"
     ]
    }
   ],
   "source": [
    "df.info()\n"
   ]
  },
  {
   "cell_type": "code",
   "execution_count": 957,
   "id": "947585eb",
   "metadata": {},
   "outputs": [
    {
     "data": {
      "text/plain": [
       "Date               0\n",
       "Profession         0\n",
       "Rank               0\n",
       "Equipment          0\n",
       "Insalubrity        0\n",
       "Size_Production    0\n",
       "Salary             0\n",
       "dtype: int64"
      ]
     },
     "execution_count": 957,
     "metadata": {},
     "output_type": "execute_result"
    }
   ],
   "source": [
    "df.isnull().sum()"
   ]
  },
  {
   "cell_type": "markdown",
   "id": "63e7d708",
   "metadata": {},
   "source": [
    "#### Generar valores falntantes en el data set con la tecnica imputacion aleatoria"
   ]
  },
  {
   "cell_type": "code",
   "execution_count": 958,
   "id": "0971ad9a",
   "metadata": {},
   "outputs": [],
   "source": [
    "# Generar 5 valores faltantes en las columnas existentes del data set original\n",
    "missing_values = 5\n",
    "\n",
    "# Generar valores faltantes en la primera columna existente Rank\n",
    "missing_indices = np.random.choice(df.index, size=missing_values, replace=False)\n",
    "df.loc[missing_indices, 'Rank'] = np.nan\n",
    "\n",
    "# Generar valores faltantes en la segunda columna existente Sise_Production\n",
    "missing_indices = np.random.choice(df.index, size=missing_values, replace=False)\n",
    "df.loc[missing_indices, 'Size_Production'] = np.nan\n",
    "\n",
    "# Guardar el DataFrame modificado en un nuevo archivo CSV\n",
    "df.to_csv(\"Factory_Salary2.csv\", index=False)\n"
   ]
  },
  {
   "cell_type": "code",
   "execution_count": 959,
   "id": "1987ff06",
   "metadata": {},
   "outputs": [
    {
     "name": "stdout",
     "output_type": "stream",
     "text": [
      "Date               0\n",
      "Profession         0\n",
      "Rank               5\n",
      "Equipment          0\n",
      "Insalubrity        0\n",
      "Size_Production    5\n",
      "Salary             0\n",
      "dtype: int64\n"
     ]
    }
   ],
   "source": [
    "# Cargar el archivo CSV con valores faltantes en un nuevo DataFrame\n",
    "df2 = pd.read_csv(\"Factory_Salary2.csv\")\n",
    "\n",
    "# Mostrar los valores faltantes en el DataFrame\n",
    "valores_faltantes = df2.isnull().sum()\n",
    "print(valores_faltantes)"
   ]
  },
  {
   "cell_type": "markdown",
   "id": "2c9a0b32",
   "metadata": {},
   "source": [
    "#### Tratamiento de valores faltantes"
   ]
  },
  {
   "cell_type": "code",
   "execution_count": 960,
   "id": "d046c193",
   "metadata": {},
   "outputs": [
    {
     "data": {
      "text/html": [
       "<div>\n",
       "<style scoped>\n",
       "    .dataframe tbody tr th:only-of-type {\n",
       "        vertical-align: middle;\n",
       "    }\n",
       "\n",
       "    .dataframe tbody tr th {\n",
       "        vertical-align: top;\n",
       "    }\n",
       "\n",
       "    .dataframe thead th {\n",
       "        text-align: right;\n",
       "    }\n",
       "</style>\n",
       "<table border=\"1\" class=\"dataframe\">\n",
       "  <thead>\n",
       "    <tr style=\"text-align: right;\">\n",
       "      <th></th>\n",
       "      <th>Date</th>\n",
       "      <th>Profession</th>\n",
       "      <th>Rank</th>\n",
       "      <th>Equipment</th>\n",
       "      <th>Insalubrity</th>\n",
       "      <th>Size_Production</th>\n",
       "      <th>Salary</th>\n",
       "    </tr>\n",
       "  </thead>\n",
       "  <tbody>\n",
       "    <tr>\n",
       "      <th>0</th>\n",
       "      <td>2009-01-01</td>\n",
       "      <td>Metal heater</td>\n",
       "      <td>7.0</td>\n",
       "      <td>Heating furnaces</td>\n",
       "      <td>22</td>\n",
       "      <td>580.0</td>\n",
       "      <td>26020.000000</td>\n",
       "    </tr>\n",
       "    <tr>\n",
       "      <th>1</th>\n",
       "      <td>2009-01-01</td>\n",
       "      <td>Metal heater</td>\n",
       "      <td>6.0</td>\n",
       "      <td>Heating furnaces</td>\n",
       "      <td>22</td>\n",
       "      <td>580.0</td>\n",
       "      <td>22980.000000</td>\n",
       "    </tr>\n",
       "    <tr>\n",
       "      <th>2</th>\n",
       "      <td>2009-01-01</td>\n",
       "      <td>Metal heater</td>\n",
       "      <td>5.0</td>\n",
       "      <td>Heating furnaces</td>\n",
       "      <td>22</td>\n",
       "      <td>580.0</td>\n",
       "      <td>20350.000000</td>\n",
       "    </tr>\n",
       "    <tr>\n",
       "      <th>3</th>\n",
       "      <td>2009-01-01</td>\n",
       "      <td>Metal heater</td>\n",
       "      <td>5.0</td>\n",
       "      <td>Heating furnaces</td>\n",
       "      <td>22</td>\n",
       "      <td>580.0</td>\n",
       "      <td>20350.000000</td>\n",
       "    </tr>\n",
       "    <tr>\n",
       "      <th>4</th>\n",
       "      <td>2009-01-01</td>\n",
       "      <td>Metal heater</td>\n",
       "      <td>4.0</td>\n",
       "      <td>Heating furnaces</td>\n",
       "      <td>22</td>\n",
       "      <td>580.0</td>\n",
       "      <td>18090.000000</td>\n",
       "    </tr>\n",
       "    <tr>\n",
       "      <th>...</th>\n",
       "      <td>...</td>\n",
       "      <td>...</td>\n",
       "      <td>...</td>\n",
       "      <td>...</td>\n",
       "      <td>...</td>\n",
       "      <td>...</td>\n",
       "      <td>...</td>\n",
       "    </tr>\n",
       "    <tr>\n",
       "      <th>65</th>\n",
       "      <td>2009-04-01</td>\n",
       "      <td>Metal planter</td>\n",
       "      <td>4.0</td>\n",
       "      <td>Heating furnaces</td>\n",
       "      <td>22</td>\n",
       "      <td>1200.0</td>\n",
       "      <td>20999.117647</td>\n",
       "    </tr>\n",
       "    <tr>\n",
       "      <th>66</th>\n",
       "      <td>2009-04-01</td>\n",
       "      <td>Refractory</td>\n",
       "      <td>4.0</td>\n",
       "      <td>Heating furnaces</td>\n",
       "      <td>11</td>\n",
       "      <td>1200.0</td>\n",
       "      <td>19019.117647</td>\n",
       "    </tr>\n",
       "    <tr>\n",
       "      <th>67</th>\n",
       "      <td>2009-04-01</td>\n",
       "      <td>Roller</td>\n",
       "      <td>7.0</td>\n",
       "      <td>Piercing mill</td>\n",
       "      <td>18</td>\n",
       "      <td>1200.0</td>\n",
       "      <td>29841.764706</td>\n",
       "    </tr>\n",
       "    <tr>\n",
       "      <th>68</th>\n",
       "      <td>2009-04-01</td>\n",
       "      <td>Roller</td>\n",
       "      <td>6.0</td>\n",
       "      <td>Piercing mill</td>\n",
       "      <td>18</td>\n",
       "      <td>1200.0</td>\n",
       "      <td>26175.882353</td>\n",
       "    </tr>\n",
       "    <tr>\n",
       "      <th>69</th>\n",
       "      <td>2009-04-01</td>\n",
       "      <td>Roller assistant</td>\n",
       "      <td>4.0</td>\n",
       "      <td>Piercing mill</td>\n",
       "      <td>18</td>\n",
       "      <td>1200.0</td>\n",
       "      <td>20279.117647</td>\n",
       "    </tr>\n",
       "  </tbody>\n",
       "</table>\n",
       "<p>70 rows × 7 columns</p>\n",
       "</div>"
      ],
      "text/plain": [
       "          Date        Profession  Rank         Equipment  Insalubrity   \n",
       "0   2009-01-01      Metal heater   7.0  Heating furnaces           22  \\\n",
       "1   2009-01-01      Metal heater   6.0  Heating furnaces           22   \n",
       "2   2009-01-01      Metal heater   5.0  Heating furnaces           22   \n",
       "3   2009-01-01      Metal heater   5.0  Heating furnaces           22   \n",
       "4   2009-01-01      Metal heater   4.0  Heating furnaces           22   \n",
       "..         ...               ...   ...               ...          ...   \n",
       "65  2009-04-01     Metal planter   4.0  Heating furnaces           22   \n",
       "66  2009-04-01        Refractory   4.0  Heating furnaces           11   \n",
       "67  2009-04-01            Roller   7.0     Piercing mill           18   \n",
       "68  2009-04-01            Roller   6.0     Piercing mill           18   \n",
       "69  2009-04-01  Roller assistant   4.0     Piercing mill           18   \n",
       "\n",
       "    Size_Production        Salary  \n",
       "0             580.0  26020.000000  \n",
       "1             580.0  22980.000000  \n",
       "2             580.0  20350.000000  \n",
       "3             580.0  20350.000000  \n",
       "4             580.0  18090.000000  \n",
       "..              ...           ...  \n",
       "65           1200.0  20999.117647  \n",
       "66           1200.0  19019.117647  \n",
       "67           1200.0  29841.764706  \n",
       "68           1200.0  26175.882353  \n",
       "69           1200.0  20279.117647  \n",
       "\n",
       "[70 rows x 7 columns]"
      ]
     },
     "execution_count": 960,
     "metadata": {},
     "output_type": "execute_result"
    }
   ],
   "source": [
    "df2.head(70)"
   ]
  },
  {
   "cell_type": "code",
   "execution_count": 961,
   "id": "4c8a8774",
   "metadata": {},
   "outputs": [
    {
     "data": {
      "text/plain": [
       "Rank\n",
       "4.0    83\n",
       "5.0    59\n",
       "7.0    46\n",
       "3.0    36\n",
       "6.0    35\n",
       "Name: count, dtype: int64"
      ]
     },
     "execution_count": 961,
     "metadata": {},
     "output_type": "execute_result"
    }
   ],
   "source": [
    "df2['Rank'].value_counts()"
   ]
  },
  {
   "cell_type": "code",
   "execution_count": 962,
   "id": "1155e37a",
   "metadata": {},
   "outputs": [
    {
     "data": {
      "text/plain": [
       "5.0"
      ]
     },
     "execution_count": 962,
     "metadata": {},
     "output_type": "execute_result"
    }
   ],
   "source": [
    "#mediana datos de Rank\n",
    "df2['Rank'].median()"
   ]
  },
  {
   "cell_type": "code",
   "execution_count": 963,
   "id": "8fa14620",
   "metadata": {},
   "outputs": [
    {
     "data": {
      "text/plain": [
       "0      7.0\n",
       "1      6.0\n",
       "2      5.0\n",
       "3      5.0\n",
       "4      4.0\n",
       "      ... \n",
       "259    7.0\n",
       "260    7.0\n",
       "261    7.0\n",
       "262    7.0\n",
       "263    7.0\n",
       "Name: Rank, Length: 264, dtype: float64"
      ]
     },
     "execution_count": 963,
     "metadata": {},
     "output_type": "execute_result"
    }
   ],
   "source": [
    "#rellenar con la mediana los datos faltantes\n",
    "df2['Rank'].fillna(df2['Rank'].median())"
   ]
  },
  {
   "cell_type": "code",
   "execution_count": 964,
   "id": "6d3f95f7",
   "metadata": {},
   "outputs": [],
   "source": [
    "#modificar el data set ya con los datos rellenos\n",
    "df2['Rank']= df2['Rank'].fillna(df2['Rank'].median())"
   ]
  },
  {
   "cell_type": "code",
   "execution_count": 965,
   "id": "54413459",
   "metadata": {},
   "outputs": [
    {
     "data": {
      "text/plain": [
       "Date               0\n",
       "Profession         0\n",
       "Rank               0\n",
       "Equipment          0\n",
       "Insalubrity        0\n",
       "Size_Production    5\n",
       "Salary             0\n",
       "dtype: int64"
      ]
     },
     "execution_count": 965,
     "metadata": {},
     "output_type": "execute_result"
    }
   ],
   "source": [
    "df2.isnull().sum()"
   ]
  },
  {
   "cell_type": "code",
   "execution_count": 966,
   "id": "c5ffcb2e",
   "metadata": {},
   "outputs": [
    {
     "data": {
      "text/plain": [
       "Size_Production\n",
       "580.0     22\n",
       "790.0     22\n",
       "1200.0    22\n",
       "1250.0    22\n",
       "950.0     22\n",
       "1400.0    22\n",
       "1180.0    22\n",
       "1020.0    22\n",
       "820.0     21\n",
       "1080.0    21\n",
       "780.0     21\n",
       "810.0     20\n",
       "Name: count, dtype: int64"
      ]
     },
     "execution_count": 966,
     "metadata": {},
     "output_type": "execute_result"
    }
   ],
   "source": [
    "df2['Size_Production'].value_counts()"
   ]
  },
  {
   "cell_type": "code",
   "execution_count": 967,
   "id": "09f6e2fc",
   "metadata": {},
   "outputs": [
    {
     "data": {
      "text/plain": [
       "1020.0"
      ]
     },
     "execution_count": 967,
     "metadata": {},
     "output_type": "execute_result"
    }
   ],
   "source": [
    "#mediana  datos Size_Production\n",
    "df2['Size_Production'].median()"
   ]
  },
  {
   "cell_type": "code",
   "execution_count": 968,
   "id": "1cec426f",
   "metadata": {},
   "outputs": [
    {
     "data": {
      "text/plain": [
       "0       580.0\n",
       "1       580.0\n",
       "2       580.0\n",
       "3       580.0\n",
       "4       580.0\n",
       "        ...  \n",
       "259    1180.0\n",
       "260    1080.0\n",
       "261     780.0\n",
       "262    1020.0\n",
       "263     810.0\n",
       "Name: Size_Production, Length: 264, dtype: float64"
      ]
     },
     "execution_count": 968,
     "metadata": {},
     "output_type": "execute_result"
    }
   ],
   "source": [
    "#rellenar con la mediana los datos faltantes\n",
    "df2['Size_Production'].fillna(df2['Size_Production'].median())"
   ]
  },
  {
   "cell_type": "code",
   "execution_count": 969,
   "id": "ebdea033",
   "metadata": {},
   "outputs": [],
   "source": [
    "#modificar el data set ya con los datos rellenos\n",
    "df2['Size_Production']= df2['Size_Production'].fillna(df2['Size_Production'].median())"
   ]
  },
  {
   "cell_type": "code",
   "execution_count": 970,
   "id": "fdfcafc0",
   "metadata": {},
   "outputs": [
    {
     "data": {
      "text/plain": [
       "Date               0\n",
       "Profession         0\n",
       "Rank               0\n",
       "Equipment          0\n",
       "Insalubrity        0\n",
       "Size_Production    0\n",
       "Salary             0\n",
       "dtype: int64"
      ]
     },
     "execution_count": 970,
     "metadata": {},
     "output_type": "execute_result"
    }
   ],
   "source": [
    "df2.isnull().sum()"
   ]
  },
  {
   "cell_type": "markdown",
   "id": "627ba285",
   "metadata": {},
   "source": [
    "#### Conversion de valores de Texto a numericos"
   ]
  },
  {
   "cell_type": "code",
   "execution_count": 971,
   "id": "2a68e3ad",
   "metadata": {},
   "outputs": [
    {
     "data": {
      "text/plain": [
       "array(['2009-01-01', '2009-02-01', '2009-03-01', '2009-04-01',\n",
       "       '2009-05-01', '2009-06-01', '2009-07-01', '2009-08-01',\n",
       "       '2009-09-01', '2009-10-01', '2009-11-01', '2009-12-01'],\n",
       "      dtype=object)"
      ]
     },
     "execution_count": 971,
     "metadata": {},
     "output_type": "execute_result"
    }
   ],
   "source": [
    "df2['Date'].unique()"
   ]
  },
  {
   "cell_type": "code",
   "execution_count": 972,
   "id": "2d83be8c",
   "metadata": {},
   "outputs": [
    {
     "data": {
      "text/plain": [
       "array(['Metal heater', 'Metal planter', 'Refractory', 'Roller',\n",
       "       'Roller assistant', 'Hot metal cutter', 'Cleaner', 'Operator',\n",
       "       'Quality controller'], dtype=object)"
      ]
     },
     "execution_count": 972,
     "metadata": {},
     "output_type": "execute_result"
    }
   ],
   "source": [
    "df2['Profession'].unique()"
   ]
  },
  {
   "cell_type": "code",
   "execution_count": 973,
   "id": "67381395",
   "metadata": {},
   "outputs": [
    {
     "data": {
      "text/plain": [
       "array(['Heating furnaces', 'Piercing mill', 'Pilgrim mill', 'Sizing mill',\n",
       "       'Auxiliary premises', 'Control and measuring equipment'],\n",
       "      dtype=object)"
      ]
     },
     "execution_count": 973,
     "metadata": {},
     "output_type": "execute_result"
    }
   ],
   "source": [
    "df2['Equipment'].unique()"
   ]
  },
  {
   "cell_type": "code",
   "execution_count": 974,
   "id": "b2220e04",
   "metadata": {},
   "outputs": [],
   "source": [
    "from sklearn.preprocessing import OrdinalEncoder\n",
    "encoder = OrdinalEncoder()\n",
    "df2['Date'] = encoder.fit_transform(df2[['Date']])\n",
    "df2['Profession'] = encoder.fit_transform(df2[['Profession']])\n",
    "df2['Equipment'] = encoder.fit_transform(df2[['Equipment']])"
   ]
  },
  {
   "cell_type": "code",
   "execution_count": 975,
   "id": "b6d06fd6",
   "metadata": {},
   "outputs": [
    {
     "data": {
      "text/html": [
       "<div>\n",
       "<style scoped>\n",
       "    .dataframe tbody tr th:only-of-type {\n",
       "        vertical-align: middle;\n",
       "    }\n",
       "\n",
       "    .dataframe tbody tr th {\n",
       "        vertical-align: top;\n",
       "    }\n",
       "\n",
       "    .dataframe thead th {\n",
       "        text-align: right;\n",
       "    }\n",
       "</style>\n",
       "<table border=\"1\" class=\"dataframe\">\n",
       "  <thead>\n",
       "    <tr style=\"text-align: right;\">\n",
       "      <th></th>\n",
       "      <th>Date</th>\n",
       "      <th>Profession</th>\n",
       "      <th>Rank</th>\n",
       "      <th>Equipment</th>\n",
       "      <th>Insalubrity</th>\n",
       "      <th>Size_Production</th>\n",
       "      <th>Salary</th>\n",
       "    </tr>\n",
       "  </thead>\n",
       "  <tbody>\n",
       "    <tr>\n",
       "      <th>0</th>\n",
       "      <td>0.0</td>\n",
       "      <td>2.0</td>\n",
       "      <td>7.0</td>\n",
       "      <td>2.0</td>\n",
       "      <td>22</td>\n",
       "      <td>580.0</td>\n",
       "      <td>26020.0</td>\n",
       "    </tr>\n",
       "    <tr>\n",
       "      <th>1</th>\n",
       "      <td>0.0</td>\n",
       "      <td>2.0</td>\n",
       "      <td>6.0</td>\n",
       "      <td>2.0</td>\n",
       "      <td>22</td>\n",
       "      <td>580.0</td>\n",
       "      <td>22980.0</td>\n",
       "    </tr>\n",
       "    <tr>\n",
       "      <th>2</th>\n",
       "      <td>0.0</td>\n",
       "      <td>2.0</td>\n",
       "      <td>5.0</td>\n",
       "      <td>2.0</td>\n",
       "      <td>22</td>\n",
       "      <td>580.0</td>\n",
       "      <td>20350.0</td>\n",
       "    </tr>\n",
       "    <tr>\n",
       "      <th>3</th>\n",
       "      <td>0.0</td>\n",
       "      <td>2.0</td>\n",
       "      <td>5.0</td>\n",
       "      <td>2.0</td>\n",
       "      <td>22</td>\n",
       "      <td>580.0</td>\n",
       "      <td>20350.0</td>\n",
       "    </tr>\n",
       "    <tr>\n",
       "      <th>4</th>\n",
       "      <td>0.0</td>\n",
       "      <td>2.0</td>\n",
       "      <td>4.0</td>\n",
       "      <td>2.0</td>\n",
       "      <td>22</td>\n",
       "      <td>580.0</td>\n",
       "      <td>18090.0</td>\n",
       "    </tr>\n",
       "  </tbody>\n",
       "</table>\n",
       "</div>"
      ],
      "text/plain": [
       "   Date  Profession  Rank  Equipment  Insalubrity  Size_Production   Salary\n",
       "0   0.0         2.0   7.0        2.0           22            580.0  26020.0\n",
       "1   0.0         2.0   6.0        2.0           22            580.0  22980.0\n",
       "2   0.0         2.0   5.0        2.0           22            580.0  20350.0\n",
       "3   0.0         2.0   5.0        2.0           22            580.0  20350.0\n",
       "4   0.0         2.0   4.0        2.0           22            580.0  18090.0"
      ]
     },
     "execution_count": 975,
     "metadata": {},
     "output_type": "execute_result"
    }
   ],
   "source": [
    "df2.head(5)"
   ]
  },
  {
   "cell_type": "markdown",
   "id": "5526586e",
   "metadata": {},
   "source": [
    "#### Selecion de variables 'X' y 'y'"
   ]
  },
  {
   "cell_type": "code",
   "execution_count": 976,
   "id": "d957e986",
   "metadata": {},
   "outputs": [
    {
     "data": {
      "text/html": [
       "<div>\n",
       "<style scoped>\n",
       "    .dataframe tbody tr th:only-of-type {\n",
       "        vertical-align: middle;\n",
       "    }\n",
       "\n",
       "    .dataframe tbody tr th {\n",
       "        vertical-align: top;\n",
       "    }\n",
       "\n",
       "    .dataframe thead th {\n",
       "        text-align: right;\n",
       "    }\n",
       "</style>\n",
       "<table border=\"1\" class=\"dataframe\">\n",
       "  <thead>\n",
       "    <tr style=\"text-align: right;\">\n",
       "      <th></th>\n",
       "      <th>Date</th>\n",
       "      <th>Profession</th>\n",
       "      <th>Rank</th>\n",
       "      <th>Equipment</th>\n",
       "      <th>Insalubrity</th>\n",
       "      <th>Size_Production</th>\n",
       "    </tr>\n",
       "  </thead>\n",
       "  <tbody>\n",
       "    <tr>\n",
       "      <th>0</th>\n",
       "      <td>0.0</td>\n",
       "      <td>2.0</td>\n",
       "      <td>7.0</td>\n",
       "      <td>2.0</td>\n",
       "      <td>22</td>\n",
       "      <td>580.0</td>\n",
       "    </tr>\n",
       "    <tr>\n",
       "      <th>1</th>\n",
       "      <td>0.0</td>\n",
       "      <td>2.0</td>\n",
       "      <td>6.0</td>\n",
       "      <td>2.0</td>\n",
       "      <td>22</td>\n",
       "      <td>580.0</td>\n",
       "    </tr>\n",
       "    <tr>\n",
       "      <th>2</th>\n",
       "      <td>0.0</td>\n",
       "      <td>2.0</td>\n",
       "      <td>5.0</td>\n",
       "      <td>2.0</td>\n",
       "      <td>22</td>\n",
       "      <td>580.0</td>\n",
       "    </tr>\n",
       "  </tbody>\n",
       "</table>\n",
       "</div>"
      ],
      "text/plain": [
       "   Date  Profession  Rank  Equipment  Insalubrity  Size_Production\n",
       "0   0.0         2.0   7.0        2.0           22            580.0\n",
       "1   0.0         2.0   6.0        2.0           22            580.0\n",
       "2   0.0         2.0   5.0        2.0           22            580.0"
      ]
     },
     "execution_count": 976,
     "metadata": {},
     "output_type": "execute_result"
    }
   ],
   "source": [
    "X = df2.drop(['Salary'], axis =1) \n",
    "X.head(3)"
   ]
  },
  {
   "cell_type": "code",
   "execution_count": 977,
   "id": "314e4ce6",
   "metadata": {},
   "outputs": [
    {
     "data": {
      "text/plain": [
       "0      26020.000000\n",
       "1      22980.000000\n",
       "2      20350.000000\n",
       "3      20350.000000\n",
       "4      18090.000000\n",
       "           ...     \n",
       "259    26342.235294\n",
       "260    25044.588235\n",
       "261    22060.000000\n",
       "262    24266.000000\n",
       "263    22060.000000\n",
       "Name: Salary, Length: 264, dtype: float64"
      ]
     },
     "execution_count": 977,
     "metadata": {},
     "output_type": "execute_result"
    }
   ],
   "source": [
    "y = df2['Salary']\n",
    "y"
   ]
  },
  {
   "cell_type": "markdown",
   "id": "d67f6591",
   "metadata": {},
   "source": [
    "#### Escalado o Normalizacion"
   ]
  },
  {
   "cell_type": "code",
   "execution_count": 978,
   "id": "3cc03923",
   "metadata": {},
   "outputs": [],
   "source": [
    "#Escalado de datos con MinMaxScaler\n",
    "#from sklearn.preprocessing import MinMaxScaler\n",
    "#scaler = MinMaxScaler() \n",
    "\n",
    "#X['Date']= scaler.fit_transform(X[['Date']])\n",
    "#X['Profession']= scaler.fit_transform(X[['Profession']])\n",
    "#X['Rank']= scaler.fit_transform(X[['Rank']])\n",
    "#X['Equipment']= scaler.fit_transform(X[['Equipment']])\n",
    "#X['Insalubrity']= scaler.fit_transform(X[['Insalubrity']])\n",
    "#X['Size_Production']= scaler.fit_transform(X[['Size_Production']])\n",
    "\n",
    "#X.head(5)"
   ]
  },
  {
   "cell_type": "markdown",
   "id": "bf7ba6a0",
   "metadata": {},
   "source": [
    "#### Entrenamento de modelo Random Forest (bosques aleatorios)"
   ]
  },
  {
   "cell_type": "code",
   "execution_count": 979,
   "id": "f2cd8083",
   "metadata": {},
   "outputs": [],
   "source": [
    "from sklearn.model_selection import train_test_split\n",
    "from sklearn.ensemble import RandomForestRegressor\n",
    "\n",
    "X = df2.drop('Salary',axis=1)\n",
    "y = df2['Salary']\n",
    "\n",
    "X_train, X_test, y_train, y_test = train_test_split(X, y, test_size=0.2, random_state=42)\n",
    "\n",
    "rf = RandomForestRegressor()\n",
    "rf.fit(X_train, y_train)\n",
    "\n",
    "y_pred = rf.predict(X_test)"
   ]
  },
  {
   "cell_type": "code",
   "execution_count": 980,
   "id": "4976cb60",
   "metadata": {},
   "outputs": [
    {
     "data": {
      "text/plain": [
       "<function matplotlib.pyplot.show(close=None, block=None)>"
      ]
     },
     "execution_count": 980,
     "metadata": {},
     "output_type": "execute_result"
    },
    {
     "data": {
      "image/png": "[encoded data removed]",
      "text/plain": [
       "<Figure size 640x480 with 1 Axes>"
      ]
     },
     "metadata": {},
     "output_type": "display_data"
    }
   ],
   "source": [
    "import matplotlib.pyplot as plt \n",
    "\n",
    "#Crear el diagrama de dispersion\n",
    "plt.scatter(y_test, y_pred)\n",
    "plt.xlabel('Valores reales')\n",
    "plt.ylabel('prediccion')\n",
    "plt.title('Valores absolutos reales vs prediccion')\n",
    "\n",
    "#Añadir una linea de identidad que representa una prediccion perfecta\n",
    "lims=[np.min([plt.xlim(),plt.ylim()]), np.max([plt.xlim(),plt.ylim()])]\n",
    "plt.plot(lims,lims,'k-',alpha=0.75,zorder=0)\n",
    "plt.xlim(lims)\n",
    "plt.ylim(lims)\n",
    "\n",
    "plt.show"
   ]
  },
  {
   "cell_type": "code",
   "execution_count": 981,
   "id": "f320c991",
   "metadata": {},
   "outputs": [
    {
     "name": "stdout",
     "output_type": "stream",
     "text": [
      "Validacion cruzada para cada fold: [0.99032819 0.98689731 0.89774573 0.94854779 0.70579284]\n"
     ]
    }
   ],
   "source": [
    "from sklearn.model_selection import cross_val_score\n",
    "from sklearn.ensemble import RandomForestRegressor\n",
    "\n",
    "rf_modelo = RandomForestRegressor(random_state=None)\n",
    "scores = cross_val_score(rf_modelo,X,y,cv=5,n_jobs=-1)\n",
    "\n",
    "print(\"Validacion cruzada para cada fold:\",scores)"
   ]
  },
  {
   "cell_type": "markdown",
   "id": "372d198a",
   "metadata": {},
   "source": [
    "#### Metrica r2 con k-fold-cross-validation"
   ]
  },
  {
   "cell_type": "code",
   "execution_count": 982,
   "id": "40ddad50",
   "metadata": {},
   "outputs": [
    {
     "name": "stdout",
     "output_type": "stream",
     "text": [
      "Coeficiente de terminacion R^2 :  0.9031719248304064\n"
     ]
    }
   ],
   "source": [
    "from sklearn.model_selection import cross_val_score\n",
    "from sklearn.metrics import r2_score\n",
    "scor='r2'\n",
    "scores=cross_val_score(rf_modelo,X,y,cv=5,scoring=scor)\n",
    "\n",
    "print(\"Coeficiente de terminacion R^2 : \", scores.mean())"
   ]
  },
  {
   "cell_type": "code",
   "execution_count": 983,
   "id": "1765eafe",
   "metadata": {},
   "outputs": [
    {
     "name": "stdout",
     "output_type": "stream",
     "text": [
      "Error cuadratico medio: 880085.5674827857\n",
      "Raiz del error cuadratico medio: 938.1287584776334\n",
      "Logaritmo de la raiz del error cuadratico medio (log RMSE): 6.843887208751595\n"
     ]
    }
   ],
   "source": [
    "from sklearn.metrics import mean_squared_error\n",
    "\n",
    "#calcula el error cuadratico medio (MSE)\n",
    "mse= mean_squared_error(y_test,y_pred)\n",
    "#Imprimiendo el MSE\n",
    "print(\"Error cuadratico medio:\", mse)\n",
    "\n",
    "#Calcula la raiz del error cuadratico medio\n",
    "rmse = np.sqrt(mse)\n",
    "#imprimiendo el RMSE\n",
    "print(\"Raiz del error cuadratico medio:\", rmse)\n",
    "\n",
    "log_rmse = np.log(rmse)\n",
    "print(\"Logaritmo de la raiz del error cuadratico medio (log RMSE):\", log_rmse)"
   ]
  },
  {
   "cell_type": "markdown",
   "id": "5a2cb09a",
   "metadata": {},
   "source": [
    "#### Entrenamiento de modelos  redes neuronales (Neural Network NN)  con Tensor flow"
   ]
  },
  {
   "cell_type": "code",
   "execution_count": 899,
   "id": "b2a8e3fd",
   "metadata": {
    "scrolled": true
   },
   "outputs": [
    {
     "data": {
      "text/html": [
       "<style>#sk-container-id-17 {color: black;background-color: white;}#sk-container-id-17 pre{padding: 0;}#sk-container-id-17 div.sk-toggleable {background-color: white;}#sk-container-id-17 label.sk-toggleable__label {cursor: pointer;display: block;width: 100%;margin-bottom: 0;padding: 0.3em;box-sizing: border-box;text-align: center;}#sk-container-id-17 label.sk-toggleable__label-arrow:before {content: \"▸\";float: left;margin-right: 0.25em;color: #696969;}#sk-container-id-17 label.sk-toggleable__label-arrow:hover:before {color: black;}#sk-container-id-17 div.sk-estimator:hover label.sk-toggleable__label-arrow:before {color: black;}#sk-container-id-17 div.sk-toggleable__content {max-height: 0;max-width: 0;overflow: hidden;text-align: left;background-color: #f0f8ff;}#sk-container-id-17 div.sk-toggleable__content pre {margin: 0.2em;color: black;border-radius: 0.25em;background-color: #f0f8ff;}#sk-container-id-17 input.sk-toggleable__control:checked~div.sk-toggleable__content {max-height: 200px;max-width: 100%;overflow: auto;}#sk-container-id-17 input.sk-toggleable__control:checked~label.sk-toggleable__label-arrow:before {content: \"▾\";}#sk-container-id-17 div.sk-estimator input.sk-toggleable__control:checked~label.sk-toggleable__label {background-color: #d4ebff;}#sk-container-id-17 div.sk-label input.sk-toggleable__control:checked~label.sk-toggleable__label {background-color: #d4ebff;}#sk-container-id-17 input.sk-hidden--visually {border: 0;clip: rect(1px 1px 1px 1px);clip: rect(1px, 1px, 1px, 1px);height: 1px;margin: -1px;overflow: hidden;padding: 0;position: absolute;width: 1px;}#sk-container-id-17 div.sk-estimator {font-family: monospace;background-color: #f0f8ff;border: 1px dotted black;border-radius: 0.25em;box-sizing: border-box;margin-bottom: 0.5em;}#sk-container-id-17 div.sk-estimator:hover {background-color: #d4ebff;}#sk-container-id-17 div.sk-parallel-item::after {content: \"\";width: 100%;border-bottom: 1px solid gray;flex-grow: 1;}#sk-container-id-17 div.sk-label:hover label.sk-toggleable__label {background-color: #d4ebff;}#sk-container-id-17 div.sk-serial::before {content: \"\";position: absolute;border-left: 1px solid gray;box-sizing: border-box;top: 0;bottom: 0;left: 50%;z-index: 0;}#sk-container-id-17 div.sk-serial {display: flex;flex-direction: column;align-items: center;background-color: white;padding-right: 0.2em;padding-left: 0.2em;position: relative;}#sk-container-id-17 div.sk-item {position: relative;z-index: 1;}#sk-container-id-17 div.sk-parallel {display: flex;align-items: stretch;justify-content: center;background-color: white;position: relative;}#sk-container-id-17 div.sk-item::before, #sk-container-id-17 div.sk-parallel-item::before {content: \"\";position: absolute;border-left: 1px solid gray;box-sizing: border-box;top: 0;bottom: 0;left: 50%;z-index: -1;}#sk-container-id-17 div.sk-parallel-item {display: flex;flex-direction: column;z-index: 1;position: relative;background-color: white;}#sk-container-id-17 div.sk-parallel-item:first-child::after {align-self: flex-end;width: 50%;}#sk-container-id-17 div.sk-parallel-item:last-child::after {align-self: flex-start;width: 50%;}#sk-container-id-17 div.sk-parallel-item:only-child::after {width: 0;}#sk-container-id-17 div.sk-dashed-wrapped {border: 1px dashed gray;margin: 0 0.4em 0.5em 0.4em;box-sizing: border-box;padding-bottom: 0.4em;background-color: white;}#sk-container-id-17 div.sk-label label {font-family: monospace;font-weight: bold;display: inline-block;line-height: 1.2em;}#sk-container-id-17 div.sk-label-container {text-align: center;}#sk-container-id-17 div.sk-container {/* jupyter's `normalize.less` sets `[hidden] { display: none; }` but bootstrap.min.css set `[hidden] { display: none !important; }` so we also need the `!important` here to be able to override the default hidden behavior on the sphinx rendered scikit-learn.org. See: https://github.com/scikit-learn/scikit-learn/issues/21755 */display: inline-block !important;position: relative;}#sk-container-id-17 div.sk-text-repr-fallback {display: none;}</style><div id=\"sk-container-id-17\" class=\"sk-top-container\"><div class=\"sk-text-repr-fallback\"><pre>MLPRegressor(activation=&#x27;identity&#x27;, hidden_layer_sizes=(80, 50, 120, 150),\n",
       "             max_iter=2000, solver=&#x27;lbfgs&#x27;)</pre><b>In a Jupyter environment, please rerun this cell to show the HTML representation or trust the notebook. <br />On GitHub, the HTML representation is unable to render, please try loading this page with nbviewer.org.</b></div><div class=\"sk-container\" hidden><div class=\"sk-item\"><div class=\"sk-estimator sk-toggleable\"><input class=\"sk-toggleable__control sk-hidden--visually\" id=\"sk-estimator-id-17\" type=\"checkbox\" checked><label for=\"sk-estimator-id-17\" class=\"sk-toggleable__label sk-toggleable__label-arrow\">MLPRegressor</label><div class=\"sk-toggleable__content\"><pre>MLPRegressor(activation=&#x27;identity&#x27;, hidden_layer_sizes=(80, 50, 120, 150),\n",
       "             max_iter=2000, solver=&#x27;lbfgs&#x27;)</pre></div></div></div></div></div>"
      ],
      "text/plain": [
       "MLPRegressor(activation='identity', hidden_layer_sizes=(80, 50, 120, 150),\n",
       "             max_iter=2000, solver='lbfgs')"
      ]
     },
     "execution_count": 899,
     "metadata": {},
     "output_type": "execute_result"
    }
   ],
   "source": [
    "from sklearn.neural_network import MLPRegressor\n",
    "modeloMLPRegressor = MLPRegressor(hidden_layer_sizes = (80,50,120,150),\n",
    "                      max_iter=2000, \n",
    "                      activation = 'identity',\n",
    "                      solver = 'lbfgs')\n",
    "modeloMLPRegressor.fit(X_train,y_train)"
   ]
  },
  {
   "cell_type": "code",
   "execution_count": 900,
   "id": "1a85de8d",
   "metadata": {},
   "outputs": [
    {
     "data": {
      "text/plain": [
       "0.9603690229472459"
      ]
     },
     "execution_count": 900,
     "metadata": {},
     "output_type": "execute_result"
    }
   ],
   "source": [
    "modeloMLPRegressor.score(X_test,y_test)"
   ]
  },
  {
   "cell_type": "code",
   "execution_count": 901,
   "id": "5f5dc0df",
   "metadata": {},
   "outputs": [
    {
     "data": {
      "text/plain": [
       "0.943228829862052"
      ]
     },
     "execution_count": 901,
     "metadata": {},
     "output_type": "execute_result"
    }
   ],
   "source": [
    "from sklearn.model_selection import cross_val_score\n",
    "scores = cross_val_score(modeloMLPRegressor, X, y,scoring= 'r2',cv=5,n_jobs=-1)\n",
    "scores.mean()"
   ]
  },
  {
   "cell_type": "markdown",
   "id": "076fd2e1",
   "metadata": {},
   "source": [
    "### Clasificación"
   ]
  },
  {
   "cell_type": "code",
   "execution_count": 902,
   "id": "a0d408ec",
   "metadata": {},
   "outputs": [],
   "source": [
    "import pandas as pd\n",
    "import numpy as np\n",
    "\n",
    "from sklearn.model_selection import train_test_split\n",
    "from sklearn.svm import SVC\n",
    "from sklearn.metrics import accuracy_score\n",
    "from sklearn.svm import SVR"
   ]
  },
  {
   "cell_type": "code",
   "execution_count": 903,
   "id": "b5f46781",
   "metadata": {},
   "outputs": [
    {
     "data": {
      "text/plain": [
       "(77, 23)"
      ]
     },
     "execution_count": 903,
     "metadata": {},
     "output_type": "execute_result"
    }
   ],
   "source": [
    "data = pd.read_csv('../notebookJupyter/cereals.csv')\n",
    "df = pd.DataFrame(data, columns=data.columns)\n",
    "df.shape"
   ]
  },
  {
   "cell_type": "code",
   "execution_count": 904,
   "id": "702487dd",
   "metadata": {},
   "outputs": [
    {
     "data": {
      "text/html": [
       "<div>\n",
       "<style scoped>\n",
       "    .dataframe tbody tr th:only-of-type {\n",
       "        vertical-align: middle;\n",
       "    }\n",
       "\n",
       "    .dataframe tbody tr th {\n",
       "        vertical-align: top;\n",
       "    }\n",
       "\n",
       "    .dataframe thead th {\n",
       "        text-align: right;\n",
       "    }\n",
       "</style>\n",
       "<table border=\"1\" class=\"dataframe\">\n",
       "  <thead>\n",
       "    <tr style=\"text-align: right;\">\n",
       "      <th></th>\n",
       "      <th>Name</th>\n",
       "      <th>Manuf</th>\n",
       "      <th>Type</th>\n",
       "      <th>Calories</th>\n",
       "      <th>Protein</th>\n",
       "      <th>Fat</th>\n",
       "      <th>Sodium</th>\n",
       "      <th>Fiber</th>\n",
       "      <th>Carbo</th>\n",
       "      <th>Sugars</th>\n",
       "      <th>...</th>\n",
       "      <th>Weight</th>\n",
       "      <th>Cups</th>\n",
       "      <th>Rating</th>\n",
       "      <th>Cold</th>\n",
       "      <th>Nabisco</th>\n",
       "      <th>Quaker</th>\n",
       "      <th>Kelloggs</th>\n",
       "      <th>GeneralMills</th>\n",
       "      <th>Ralston</th>\n",
       "      <th>AHFP</th>\n",
       "    </tr>\n",
       "  </thead>\n",
       "  <tbody>\n",
       "    <tr>\n",
       "      <th>0</th>\n",
       "      <td>100%_Bran</td>\n",
       "      <td>N</td>\n",
       "      <td>C</td>\n",
       "      <td>70</td>\n",
       "      <td>4</td>\n",
       "      <td>1</td>\n",
       "      <td>130</td>\n",
       "      <td>10.0</td>\n",
       "      <td>5.0</td>\n",
       "      <td>6.0</td>\n",
       "      <td>...</td>\n",
       "      <td>1.0</td>\n",
       "      <td>0.33</td>\n",
       "      <td>68.402973</td>\n",
       "      <td>1</td>\n",
       "      <td>1</td>\n",
       "      <td>0</td>\n",
       "      <td>0</td>\n",
       "      <td>0</td>\n",
       "      <td>0</td>\n",
       "      <td>0</td>\n",
       "    </tr>\n",
       "    <tr>\n",
       "      <th>1</th>\n",
       "      <td>100%_Natural_Bran</td>\n",
       "      <td>Q</td>\n",
       "      <td>C</td>\n",
       "      <td>120</td>\n",
       "      <td>3</td>\n",
       "      <td>5</td>\n",
       "      <td>15</td>\n",
       "      <td>2.0</td>\n",
       "      <td>8.0</td>\n",
       "      <td>8.0</td>\n",
       "      <td>...</td>\n",
       "      <td>1.0</td>\n",
       "      <td>1.00</td>\n",
       "      <td>33.983679</td>\n",
       "      <td>1</td>\n",
       "      <td>0</td>\n",
       "      <td>1</td>\n",
       "      <td>0</td>\n",
       "      <td>0</td>\n",
       "      <td>0</td>\n",
       "      <td>0</td>\n",
       "    </tr>\n",
       "    <tr>\n",
       "      <th>2</th>\n",
       "      <td>All-Bran</td>\n",
       "      <td>K</td>\n",
       "      <td>C</td>\n",
       "      <td>70</td>\n",
       "      <td>4</td>\n",
       "      <td>1</td>\n",
       "      <td>260</td>\n",
       "      <td>9.0</td>\n",
       "      <td>7.0</td>\n",
       "      <td>5.0</td>\n",
       "      <td>...</td>\n",
       "      <td>1.0</td>\n",
       "      <td>0.33</td>\n",
       "      <td>59.425505</td>\n",
       "      <td>1</td>\n",
       "      <td>0</td>\n",
       "      <td>0</td>\n",
       "      <td>1</td>\n",
       "      <td>0</td>\n",
       "      <td>0</td>\n",
       "      <td>0</td>\n",
       "    </tr>\n",
       "    <tr>\n",
       "      <th>3</th>\n",
       "      <td>All-Bran_with_Extra_Fiber</td>\n",
       "      <td>K</td>\n",
       "      <td>C</td>\n",
       "      <td>50</td>\n",
       "      <td>4</td>\n",
       "      <td>0</td>\n",
       "      <td>140</td>\n",
       "      <td>14.0</td>\n",
       "      <td>8.0</td>\n",
       "      <td>0.0</td>\n",
       "      <td>...</td>\n",
       "      <td>1.0</td>\n",
       "      <td>0.50</td>\n",
       "      <td>93.704912</td>\n",
       "      <td>1</td>\n",
       "      <td>0</td>\n",
       "      <td>0</td>\n",
       "      <td>1</td>\n",
       "      <td>0</td>\n",
       "      <td>0</td>\n",
       "      <td>0</td>\n",
       "    </tr>\n",
       "    <tr>\n",
       "      <th>4</th>\n",
       "      <td>Almond_Delight</td>\n",
       "      <td>R</td>\n",
       "      <td>C</td>\n",
       "      <td>110</td>\n",
       "      <td>2</td>\n",
       "      <td>2</td>\n",
       "      <td>200</td>\n",
       "      <td>1.0</td>\n",
       "      <td>14.0</td>\n",
       "      <td>8.0</td>\n",
       "      <td>...</td>\n",
       "      <td>1.0</td>\n",
       "      <td>0.75</td>\n",
       "      <td>34.384843</td>\n",
       "      <td>1</td>\n",
       "      <td>0</td>\n",
       "      <td>0</td>\n",
       "      <td>0</td>\n",
       "      <td>0</td>\n",
       "      <td>1</td>\n",
       "      <td>0</td>\n",
       "    </tr>\n",
       "  </tbody>\n",
       "</table>\n",
       "<p>5 rows × 23 columns</p>\n",
       "</div>"
      ],
      "text/plain": [
       "                         Name Manuf Type  Calories  Protein  Fat  Sodium   \n",
       "0                  100%_Bran     N    C         70        4    1     130  \\\n",
       "1          100%_Natural_Bran     Q    C        120        3    5      15   \n",
       "2                   All-Bran     K    C         70        4    1     260   \n",
       "3  All-Bran_with_Extra_Fiber     K    C         50        4    0     140   \n",
       "4             Almond_Delight     R    C        110        2    2     200   \n",
       "\n",
       "   Fiber  Carbo  Sugars  ...  Weight  Cups     Rating  Cold  Nabisco  Quaker   \n",
       "0   10.0    5.0     6.0  ...     1.0  0.33  68.402973     1        1       0  \\\n",
       "1    2.0    8.0     8.0  ...     1.0  1.00  33.983679     1        0       1   \n",
       "2    9.0    7.0     5.0  ...     1.0  0.33  59.425505     1        0       0   \n",
       "3   14.0    8.0     0.0  ...     1.0  0.50  93.704912     1        0       0   \n",
       "4    1.0   14.0     8.0  ...     1.0  0.75  34.384843     1        0       0   \n",
       "\n",
       "   Kelloggs  GeneralMills  Ralston  AHFP  \n",
       "0         0             0        0     0  \n",
       "1         0             0        0     0  \n",
       "2         1             0        0     0  \n",
       "3         1             0        0     0  \n",
       "4         0             0        1     0  \n",
       "\n",
       "[5 rows x 23 columns]"
      ]
     },
     "execution_count": 904,
     "metadata": {},
     "output_type": "execute_result"
    }
   ],
   "source": [
    "#data set de cereales de diferente marcas y su informacion nutricional\n",
    "df = pd.read_csv('../notebookJupyter/cereals.csv')\n",
    "df.head(5)"
   ]
  },
  {
   "cell_type": "code",
   "execution_count": 905,
   "id": "03322f11",
   "metadata": {},
   "outputs": [
    {
     "name": "stdout",
     "output_type": "stream",
     "text": [
      "<class 'pandas.core.frame.DataFrame'>\n",
      "RangeIndex: 77 entries, 0 to 76\n",
      "Data columns (total 23 columns):\n",
      " #   Column        Non-Null Count  Dtype  \n",
      "---  ------        --------------  -----  \n",
      " 0   Name          77 non-null     object \n",
      " 1   Manuf         77 non-null     object \n",
      " 2   Type          77 non-null     object \n",
      " 3   Calories      77 non-null     int64  \n",
      " 4   Protein       77 non-null     int64  \n",
      " 5   Fat           77 non-null     int64  \n",
      " 6   Sodium        77 non-null     int64  \n",
      " 7   Fiber         77 non-null     float64\n",
      " 8   Carbo         76 non-null     float64\n",
      " 9   Sugars        76 non-null     float64\n",
      " 10  Potass        75 non-null     float64\n",
      " 11  Vitamins      77 non-null     int64  \n",
      " 12  Shelf         77 non-null     int64  \n",
      " 13  Weight        77 non-null     float64\n",
      " 14  Cups          77 non-null     float64\n",
      " 15  Rating        77 non-null     float64\n",
      " 16  Cold          77 non-null     int64  \n",
      " 17  Nabisco       77 non-null     int64  \n",
      " 18  Quaker        77 non-null     int64  \n",
      " 19  Kelloggs      77 non-null     int64  \n",
      " 20  GeneralMills  77 non-null     int64  \n",
      " 21  Ralston       77 non-null     int64  \n",
      " 22  AHFP          77 non-null     int64  \n",
      "dtypes: float64(7), int64(13), object(3)\n",
      "memory usage: 14.0+ KB\n"
     ]
    }
   ],
   "source": [
    "#informacion de la tabla\n",
    "df.info()"
   ]
  },
  {
   "cell_type": "code",
   "execution_count": 906,
   "id": "c175da1d",
   "metadata": {},
   "outputs": [
    {
     "data": {
      "text/plain": [
       "Manuf\n",
       "K     23\n",
       "G     22\n",
       "P      9\n",
       "Q      8\n",
       "R      8\n",
       "N      6\n",
       "A      1\n",
       "Name: count, dtype: int64"
      ]
     },
     "execution_count": 906,
     "metadata": {},
     "output_type": "execute_result"
    }
   ],
   "source": [
    "#datos que contiene la columna Manuf\n",
    "df['Manuf'].value_counts()"
   ]
  },
  {
   "cell_type": "code",
   "execution_count": 907,
   "id": "94d88eb8",
   "metadata": {},
   "outputs": [
    {
     "data": {
      "text/plain": [
       "Name            0\n",
       "Manuf           0\n",
       "Type            0\n",
       "Calories        0\n",
       "Protein         0\n",
       "Fat             0\n",
       "Sodium          0\n",
       "Fiber           0\n",
       "Carbo           1\n",
       "Sugars          1\n",
       "Potass          2\n",
       "Vitamins        0\n",
       "Shelf           0\n",
       "Weight          0\n",
       "Cups            0\n",
       "Rating          0\n",
       "Cold            0\n",
       "Nabisco         0\n",
       "Quaker          0\n",
       "Kelloggs        0\n",
       "GeneralMills    0\n",
       "Ralston         0\n",
       "AHFP            0\n",
       "dtype: int64"
      ]
     },
     "execution_count": 907,
     "metadata": {},
     "output_type": "execute_result"
    }
   ],
   "source": [
    "#Verificacion de valores faltantes ,se encontro en la columna carbohidratos,azucares y potasio\n",
    "df.isnull().sum()"
   ]
  },
  {
   "cell_type": "code",
   "execution_count": 908,
   "id": "6db9d740",
   "metadata": {},
   "outputs": [
    {
     "data": {
      "text/plain": [
       "Carbo\n",
       "13.0    8\n",
       "15.0    8\n",
       "21.0    7\n",
       "12.0    7\n",
       "16.0    7\n",
       "14.0    7\n",
       "17.0    6\n",
       "11.0    5\n",
       "18.0    3\n",
       "20.0    3\n",
       "10.5    2\n",
       "8.0     2\n",
       "22.0    2\n",
       "10.0    2\n",
       "13.5    1\n",
       "19.0    1\n",
       "23.0    1\n",
       "5.0     1\n",
       "11.5    1\n",
       "7.0     1\n",
       "9.0     1\n",
       "Name: count, dtype: int64"
      ]
     },
     "execution_count": 908,
     "metadata": {},
     "output_type": "execute_result"
    }
   ],
   "source": [
    "#Contar los valores de carbohidratos\n",
    "df['Carbo'].value_counts()"
   ]
  },
  {
   "cell_type": "code",
   "execution_count": 909,
   "id": "91e4d677",
   "metadata": {},
   "outputs": [
    {
     "data": {
      "text/plain": [
       "14.5"
      ]
     },
     "execution_count": 909,
     "metadata": {},
     "output_type": "execute_result"
    }
   ],
   "source": [
    "#mediana  datos de los carbohidratos\n",
    "df['Carbo'].median()"
   ]
  },
  {
   "cell_type": "code",
   "execution_count": 910,
   "id": "ee7ed25f",
   "metadata": {},
   "outputs": [
    {
     "data": {
      "text/plain": [
       "0      5.0\n",
       "1      8.0\n",
       "2      7.0\n",
       "3      8.0\n",
       "4     14.0\n",
       "      ... \n",
       "72    21.0\n",
       "73    13.0\n",
       "74    17.0\n",
       "75    17.0\n",
       "76    16.0\n",
       "Name: Carbo, Length: 77, dtype: float64"
      ]
     },
     "execution_count": 910,
     "metadata": {},
     "output_type": "execute_result"
    }
   ],
   "source": [
    "#rellenar con la mediana los datos faltantes\n",
    "df['Carbo'].fillna(df['Carbo'].median())"
   ]
  },
  {
   "cell_type": "code",
   "execution_count": 911,
   "id": "afe66ac5",
   "metadata": {},
   "outputs": [],
   "source": [
    "#modificar el data set ya con los datos rellenos\n",
    "df['Carbo']= df['Carbo'].fillna(df['Carbo'].median())"
   ]
  },
  {
   "cell_type": "code",
   "execution_count": 912,
   "id": "72efca4c",
   "metadata": {},
   "outputs": [
    {
     "data": {
      "text/plain": [
       "Sugars\n",
       "3.0     13\n",
       "6.0      7\n",
       "0.0      7\n",
       "12.0     7\n",
       "8.0      5\n",
       "5.0      5\n",
       "10.0     5\n",
       "11.0     5\n",
       "9.0      4\n",
       "7.0      4\n",
       "13.0     4\n",
       "14.0     3\n",
       "2.0      3\n",
       "15.0     2\n",
       "1.0      1\n",
       "4.0      1\n",
       "Name: count, dtype: int64"
      ]
     },
     "execution_count": 912,
     "metadata": {},
     "output_type": "execute_result"
    }
   ],
   "source": [
    "#Contar los valores de carbohidratos\n",
    "df['Sugars'].value_counts()"
   ]
  },
  {
   "cell_type": "code",
   "execution_count": 913,
   "id": "a5f6e39c",
   "metadata": {},
   "outputs": [
    {
     "data": {
      "text/plain": [
       "7.0"
      ]
     },
     "execution_count": 913,
     "metadata": {},
     "output_type": "execute_result"
    }
   ],
   "source": [
    "#mediana de los azucares\n",
    "df['Sugars'].median()"
   ]
  },
  {
   "cell_type": "code",
   "execution_count": 914,
   "id": "fdb2f370",
   "metadata": {},
   "outputs": [
    {
     "data": {
      "text/plain": [
       "0      6.0\n",
       "1      8.0\n",
       "2      5.0\n",
       "3      0.0\n",
       "4      8.0\n",
       "      ... \n",
       "72     3.0\n",
       "73    12.0\n",
       "74     3.0\n",
       "75     3.0\n",
       "76     8.0\n",
       "Name: Sugars, Length: 77, dtype: float64"
      ]
     },
     "execution_count": 914,
     "metadata": {},
     "output_type": "execute_result"
    }
   ],
   "source": [
    "#rellenar promedio\n",
    "df['Sugars'].fillna(df['Sugars'].median())"
   ]
  },
  {
   "cell_type": "code",
   "execution_count": 915,
   "id": "7d7413d6",
   "metadata": {},
   "outputs": [],
   "source": [
    "#modificar el data set ya con los datos rellenos\n",
    "df['Sugars']= df['Sugars'].fillna(df['Sugars'].median())"
   ]
  },
  {
   "cell_type": "code",
   "execution_count": 916,
   "id": "a2bf547d",
   "metadata": {},
   "outputs": [
    {
     "data": {
      "text/plain": [
       "Potass\n",
       "90.0     5\n",
       "110.0    5\n",
       "35.0     5\n",
       "95.0     4\n",
       "40.0     4\n",
       "25.0     4\n",
       "45.0     4\n",
       "30.0     4\n",
       "100.0    3\n",
       "60.0     3\n",
       "55.0     3\n",
       "120.0    3\n",
       "190.0    2\n",
       "105.0    2\n",
       "160.0    2\n",
       "170.0    2\n",
       "140.0    2\n",
       "240.0    1\n",
       "50.0     1\n",
       "15.0     1\n",
       "260.0    1\n",
       "130.0    1\n",
       "230.0    1\n",
       "280.0    1\n",
       "85.0     1\n",
       "200.0    1\n",
       "80.0     1\n",
       "135.0    1\n",
       "65.0     1\n",
       "20.0     1\n",
       "125.0    1\n",
       "70.0     1\n",
       "330.0    1\n",
       "320.0    1\n",
       "115.0    1\n",
       "Name: count, dtype: int64"
      ]
     },
     "execution_count": 916,
     "metadata": {},
     "output_type": "execute_result"
    }
   ],
   "source": [
    "#Contar los valores de carbohidratos\n",
    "df['Potass'].value_counts()"
   ]
  },
  {
   "cell_type": "code",
   "execution_count": 917,
   "id": "65ada844",
   "metadata": {},
   "outputs": [
    {
     "data": {
      "text/plain": [
       "98.66666666666667"
      ]
     },
     "execution_count": 917,
     "metadata": {},
     "output_type": "execute_result"
    }
   ],
   "source": [
    "#mediana  datos del potasio\n",
    "df['Potass'].mean()"
   ]
  },
  {
   "cell_type": "code",
   "execution_count": 918,
   "id": "7a90d61b",
   "metadata": {},
   "outputs": [
    {
     "data": {
      "text/plain": [
       "0     280.000000\n",
       "1     135.000000\n",
       "2     320.000000\n",
       "3     330.000000\n",
       "4      98.666667\n",
       "         ...    \n",
       "72     60.000000\n",
       "73     25.000000\n",
       "74    115.000000\n",
       "75    110.000000\n",
       "76     60.000000\n",
       "Name: Potass, Length: 77, dtype: float64"
      ]
     },
     "execution_count": 918,
     "metadata": {},
     "output_type": "execute_result"
    }
   ],
   "source": [
    "#rellenar promedio\n",
    "df['Potass'].fillna(df['Potass'].mean())"
   ]
  },
  {
   "cell_type": "code",
   "execution_count": 919,
   "id": "d53a94d9",
   "metadata": {},
   "outputs": [],
   "source": [
    "#modificar el data set ya con los datos rellenos\n",
    "df['Potass']= df['Potass'].fillna(df['Potass'].median())"
   ]
  },
  {
   "cell_type": "code",
   "execution_count": 920,
   "id": "5efa5655",
   "metadata": {},
   "outputs": [
    {
     "data": {
      "text/plain": [
       "Name            0\n",
       "Manuf           0\n",
       "Type            0\n",
       "Calories        0\n",
       "Protein         0\n",
       "Fat             0\n",
       "Sodium          0\n",
       "Fiber           0\n",
       "Carbo           0\n",
       "Sugars          0\n",
       "Potass          0\n",
       "Vitamins        0\n",
       "Shelf           0\n",
       "Weight          0\n",
       "Cups            0\n",
       "Rating          0\n",
       "Cold            0\n",
       "Nabisco         0\n",
       "Quaker          0\n",
       "Kelloggs        0\n",
       "GeneralMills    0\n",
       "Ralston         0\n",
       "AHFP            0\n",
       "dtype: int64"
      ]
     },
     "execution_count": 920,
     "metadata": {},
     "output_type": "execute_result"
    }
   ],
   "source": [
    "df.isnull().sum()"
   ]
  },
  {
   "cell_type": "code",
   "execution_count": 921,
   "id": "c66318c5",
   "metadata": {},
   "outputs": [
    {
     "name": "stdout",
     "output_type": "stream",
     "text": [
      "<class 'pandas.core.frame.DataFrame'>\n",
      "RangeIndex: 77 entries, 0 to 76\n",
      "Data columns (total 14 columns):\n",
      " #   Column    Non-Null Count  Dtype  \n",
      "---  ------    --------------  -----  \n",
      " 0   Manuf     77 non-null     object \n",
      " 1   Type      77 non-null     object \n",
      " 2   Calories  77 non-null     int64  \n",
      " 3   Protein   77 non-null     int64  \n",
      " 4   Fat       77 non-null     int64  \n",
      " 5   Sodium    77 non-null     int64  \n",
      " 6   Fiber     77 non-null     float64\n",
      " 7   Carbo     77 non-null     float64\n",
      " 8   Sugars    77 non-null     float64\n",
      " 9   Potass    77 non-null     float64\n",
      " 10  Vitamins  77 non-null     int64  \n",
      " 11  Shelf     77 non-null     int64  \n",
      " 12  Weight    77 non-null     float64\n",
      " 13  AHFP      77 non-null     int64  \n",
      "dtypes: float64(5), int64(7), object(2)\n",
      "memory usage: 8.6+ KB\n"
     ]
    }
   ],
   "source": [
    "df.drop(['Name','Cups','Cold','Rating','Nabisco','Quaker','Kelloggs','GeneralMills','Ralston'],axis=1,inplace=True)\n",
    "\n",
    "df.info()"
   ]
  },
  {
   "cell_type": "code",
   "execution_count": 922,
   "id": "6bb88843",
   "metadata": {},
   "outputs": [
    {
     "data": {
      "text/html": [
       "<div>\n",
       "<style scoped>\n",
       "    .dataframe tbody tr th:only-of-type {\n",
       "        vertical-align: middle;\n",
       "    }\n",
       "\n",
       "    .dataframe tbody tr th {\n",
       "        vertical-align: top;\n",
       "    }\n",
       "\n",
       "    .dataframe thead th {\n",
       "        text-align: right;\n",
       "    }\n",
       "</style>\n",
       "<table border=\"1\" class=\"dataframe\">\n",
       "  <thead>\n",
       "    <tr style=\"text-align: right;\">\n",
       "      <th></th>\n",
       "      <th>Manuf</th>\n",
       "      <th>Type</th>\n",
       "      <th>Calories</th>\n",
       "      <th>Protein</th>\n",
       "      <th>Fat</th>\n",
       "      <th>Sodium</th>\n",
       "      <th>Fiber</th>\n",
       "      <th>Carbo</th>\n",
       "      <th>Sugars</th>\n",
       "      <th>Potass</th>\n",
       "      <th>Vitamins</th>\n",
       "      <th>Shelf</th>\n",
       "      <th>Weight</th>\n",
       "      <th>AHFP</th>\n",
       "    </tr>\n",
       "  </thead>\n",
       "  <tbody>\n",
       "    <tr>\n",
       "      <th>0</th>\n",
       "      <td>3.0</td>\n",
       "      <td>0.0</td>\n",
       "      <td>70</td>\n",
       "      <td>4</td>\n",
       "      <td>1</td>\n",
       "      <td>130</td>\n",
       "      <td>10.0</td>\n",
       "      <td>5.0</td>\n",
       "      <td>6.0</td>\n",
       "      <td>280.0</td>\n",
       "      <td>25</td>\n",
       "      <td>3</td>\n",
       "      <td>1.0</td>\n",
       "      <td>0</td>\n",
       "    </tr>\n",
       "    <tr>\n",
       "      <th>1</th>\n",
       "      <td>5.0</td>\n",
       "      <td>0.0</td>\n",
       "      <td>120</td>\n",
       "      <td>3</td>\n",
       "      <td>5</td>\n",
       "      <td>15</td>\n",
       "      <td>2.0</td>\n",
       "      <td>8.0</td>\n",
       "      <td>8.0</td>\n",
       "      <td>135.0</td>\n",
       "      <td>0</td>\n",
       "      <td>3</td>\n",
       "      <td>1.0</td>\n",
       "      <td>0</td>\n",
       "    </tr>\n",
       "    <tr>\n",
       "      <th>2</th>\n",
       "      <td>2.0</td>\n",
       "      <td>0.0</td>\n",
       "      <td>70</td>\n",
       "      <td>4</td>\n",
       "      <td>1</td>\n",
       "      <td>260</td>\n",
       "      <td>9.0</td>\n",
       "      <td>7.0</td>\n",
       "      <td>5.0</td>\n",
       "      <td>320.0</td>\n",
       "      <td>25</td>\n",
       "      <td>3</td>\n",
       "      <td>1.0</td>\n",
       "      <td>0</td>\n",
       "    </tr>\n",
       "    <tr>\n",
       "      <th>3</th>\n",
       "      <td>2.0</td>\n",
       "      <td>0.0</td>\n",
       "      <td>50</td>\n",
       "      <td>4</td>\n",
       "      <td>0</td>\n",
       "      <td>140</td>\n",
       "      <td>14.0</td>\n",
       "      <td>8.0</td>\n",
       "      <td>0.0</td>\n",
       "      <td>330.0</td>\n",
       "      <td>25</td>\n",
       "      <td>3</td>\n",
       "      <td>1.0</td>\n",
       "      <td>0</td>\n",
       "    </tr>\n",
       "  </tbody>\n",
       "</table>\n",
       "</div>"
      ],
      "text/plain": [
       "   Manuf  Type  Calories  Protein  Fat  Sodium  Fiber  Carbo  Sugars  Potass   \n",
       "0    3.0   0.0        70        4    1     130   10.0    5.0     6.0   280.0  \\\n",
       "1    5.0   0.0       120        3    5      15    2.0    8.0     8.0   135.0   \n",
       "2    2.0   0.0        70        4    1     260    9.0    7.0     5.0   320.0   \n",
       "3    2.0   0.0        50        4    0     140   14.0    8.0     0.0   330.0   \n",
       "\n",
       "   Vitamins  Shelf  Weight  AHFP  \n",
       "0        25      3     1.0     0  \n",
       "1         0      3     1.0     0  \n",
       "2        25      3     1.0     0  \n",
       "3        25      3     1.0     0  "
      ]
     },
     "execution_count": 922,
     "metadata": {},
     "output_type": "execute_result"
    }
   ],
   "source": [
    "from sklearn.preprocessing import OrdinalEncoder\n",
    "encoder = OrdinalEncoder()\n",
    "df['Manuf'] = encoder.fit_transform(df[['Manuf']])\n",
    "df['Type'] = encoder.fit_transform(df[['Type']])\n",
    "df.head(4)"
   ]
  },
  {
   "cell_type": "code",
   "execution_count": 923,
   "id": "a2f7def9",
   "metadata": {},
   "outputs": [
    {
     "data": {
      "text/html": [
       "<div>\n",
       "<style scoped>\n",
       "    .dataframe tbody tr th:only-of-type {\n",
       "        vertical-align: middle;\n",
       "    }\n",
       "\n",
       "    .dataframe tbody tr th {\n",
       "        vertical-align: top;\n",
       "    }\n",
       "\n",
       "    .dataframe thead th {\n",
       "        text-align: right;\n",
       "    }\n",
       "</style>\n",
       "<table border=\"1\" class=\"dataframe\">\n",
       "  <thead>\n",
       "    <tr style=\"text-align: right;\">\n",
       "      <th></th>\n",
       "      <th>Manuf</th>\n",
       "      <th>Type</th>\n",
       "      <th>Calories</th>\n",
       "      <th>Protein</th>\n",
       "      <th>Fat</th>\n",
       "      <th>Sodium</th>\n",
       "      <th>Fiber</th>\n",
       "      <th>Carbo</th>\n",
       "      <th>Sugars</th>\n",
       "      <th>Potass</th>\n",
       "      <th>Vitamins</th>\n",
       "      <th>Shelf</th>\n",
       "      <th>Weight</th>\n",
       "      <th>AHFP</th>\n",
       "    </tr>\n",
       "  </thead>\n",
       "  <tbody>\n",
       "    <tr>\n",
       "      <th>0</th>\n",
       "      <td>3.0</td>\n",
       "      <td>0.0</td>\n",
       "      <td>0.181818</td>\n",
       "      <td>0.6</td>\n",
       "      <td>0.2</td>\n",
       "      <td>0.406250</td>\n",
       "      <td>0.714286</td>\n",
       "      <td>0.000000</td>\n",
       "      <td>0.400000</td>\n",
       "      <td>0.841270</td>\n",
       "      <td>0.25</td>\n",
       "      <td>1.0</td>\n",
       "      <td>1.0</td>\n",
       "      <td>0.0</td>\n",
       "    </tr>\n",
       "    <tr>\n",
       "      <th>1</th>\n",
       "      <td>5.0</td>\n",
       "      <td>0.0</td>\n",
       "      <td>0.636364</td>\n",
       "      <td>0.4</td>\n",
       "      <td>1.0</td>\n",
       "      <td>0.046875</td>\n",
       "      <td>0.142857</td>\n",
       "      <td>0.166667</td>\n",
       "      <td>0.533333</td>\n",
       "      <td>0.380952</td>\n",
       "      <td>0.00</td>\n",
       "      <td>1.0</td>\n",
       "      <td>1.0</td>\n",
       "      <td>0.0</td>\n",
       "    </tr>\n",
       "    <tr>\n",
       "      <th>2</th>\n",
       "      <td>2.0</td>\n",
       "      <td>0.0</td>\n",
       "      <td>0.181818</td>\n",
       "      <td>0.6</td>\n",
       "      <td>0.2</td>\n",
       "      <td>0.812500</td>\n",
       "      <td>0.642857</td>\n",
       "      <td>0.111111</td>\n",
       "      <td>0.333333</td>\n",
       "      <td>0.968254</td>\n",
       "      <td>0.25</td>\n",
       "      <td>1.0</td>\n",
       "      <td>1.0</td>\n",
       "      <td>0.0</td>\n",
       "    </tr>\n",
       "    <tr>\n",
       "      <th>3</th>\n",
       "      <td>2.0</td>\n",
       "      <td>0.0</td>\n",
       "      <td>0.000000</td>\n",
       "      <td>0.6</td>\n",
       "      <td>0.0</td>\n",
       "      <td>0.437500</td>\n",
       "      <td>1.000000</td>\n",
       "      <td>0.166667</td>\n",
       "      <td>0.000000</td>\n",
       "      <td>1.000000</td>\n",
       "      <td>0.25</td>\n",
       "      <td>1.0</td>\n",
       "      <td>1.0</td>\n",
       "      <td>0.0</td>\n",
       "    </tr>\n",
       "    <tr>\n",
       "      <th>4</th>\n",
       "      <td>6.0</td>\n",
       "      <td>0.0</td>\n",
       "      <td>0.545455</td>\n",
       "      <td>0.2</td>\n",
       "      <td>0.4</td>\n",
       "      <td>0.625000</td>\n",
       "      <td>0.071429</td>\n",
       "      <td>0.500000</td>\n",
       "      <td>0.533333</td>\n",
       "      <td>0.238095</td>\n",
       "      <td>0.25</td>\n",
       "      <td>1.0</td>\n",
       "      <td>1.0</td>\n",
       "      <td>0.0</td>\n",
       "    </tr>\n",
       "  </tbody>\n",
       "</table>\n",
       "</div>"
      ],
      "text/plain": [
       "   Manuf  Type  Calories  Protein  Fat    Sodium     Fiber     Carbo   \n",
       "0    3.0   0.0  0.181818      0.6  0.2  0.406250  0.714286  0.000000  \\\n",
       "1    5.0   0.0  0.636364      0.4  1.0  0.046875  0.142857  0.166667   \n",
       "2    2.0   0.0  0.181818      0.6  0.2  0.812500  0.642857  0.111111   \n",
       "3    2.0   0.0  0.000000      0.6  0.0  0.437500  1.000000  0.166667   \n",
       "4    6.0   0.0  0.545455      0.2  0.4  0.625000  0.071429  0.500000   \n",
       "\n",
       "     Sugars    Potass  Vitamins  Shelf  Weight  AHFP  \n",
       "0  0.400000  0.841270      0.25    1.0     1.0   0.0  \n",
       "1  0.533333  0.380952      0.00    1.0     1.0   0.0  \n",
       "2  0.333333  0.968254      0.25    1.0     1.0   0.0  \n",
       "3  0.000000  1.000000      0.25    1.0     1.0   0.0  \n",
       "4  0.533333  0.238095      0.25    1.0     1.0   0.0  "
      ]
     },
     "execution_count": 923,
     "metadata": {},
     "output_type": "execute_result"
    }
   ],
   "source": [
    "#Escalado de datos con MinMaxScaler\n",
    "from sklearn.preprocessing import MinMaxScaler\n",
    "scaler = MinMaxScaler() \n",
    "\n",
    "df['Fiber']= scaler.fit_transform(df[['Fiber']])\n",
    "df['Calories']= scaler.fit_transform(df[['Calories']])\n",
    "df['Protein']= scaler.fit_transform(df[['Protein']])\n",
    "df['Fat']= scaler.fit_transform(df[['Fat']])\n",
    "df['Sodium']= scaler.fit_transform(df[['Sodium']])\n",
    "df['Carbo']= scaler.fit_transform(df[['Carbo']])\n",
    "df['Sugars']= scaler.fit_transform(df[['Sugars']])\n",
    "df['Potass'] = scaler.fit_transform(df[['Potass']])\n",
    "df['Vitamins']= scaler.fit_transform(df[['Vitamins']])\n",
    "df['Shelf']= scaler.fit_transform(df[['Shelf']])\n",
    "df['AHFP']= scaler.fit_transform(df[['AHFP']])\n",
    "df.head(5)"
   ]
  },
  {
   "cell_type": "markdown",
   "id": "a98d83e2",
   "metadata": {},
   "source": [
    "#### Selecion de variables de 'X' y 'y'"
   ]
  },
  {
   "cell_type": "code",
   "execution_count": 924,
   "id": "a0840e7f",
   "metadata": {},
   "outputs": [
    {
     "data": {
      "text/html": [
       "<div>\n",
       "<style scoped>\n",
       "    .dataframe tbody tr th:only-of-type {\n",
       "        vertical-align: middle;\n",
       "    }\n",
       "\n",
       "    .dataframe tbody tr th {\n",
       "        vertical-align: top;\n",
       "    }\n",
       "\n",
       "    .dataframe thead th {\n",
       "        text-align: right;\n",
       "    }\n",
       "</style>\n",
       "<table border=\"1\" class=\"dataframe\">\n",
       "  <thead>\n",
       "    <tr style=\"text-align: right;\">\n",
       "      <th></th>\n",
       "      <th>Manuf</th>\n",
       "      <th>Calories</th>\n",
       "      <th>Protein</th>\n",
       "      <th>Fat</th>\n",
       "      <th>Sodium</th>\n",
       "      <th>Fiber</th>\n",
       "      <th>Carbo</th>\n",
       "      <th>Sugars</th>\n",
       "      <th>Potass</th>\n",
       "      <th>Vitamins</th>\n",
       "      <th>Shelf</th>\n",
       "      <th>Weight</th>\n",
       "      <th>AHFP</th>\n",
       "    </tr>\n",
       "  </thead>\n",
       "  <tbody>\n",
       "    <tr>\n",
       "      <th>0</th>\n",
       "      <td>3.0</td>\n",
       "      <td>0.181818</td>\n",
       "      <td>0.6</td>\n",
       "      <td>0.2</td>\n",
       "      <td>0.406250</td>\n",
       "      <td>0.714286</td>\n",
       "      <td>0.000000</td>\n",
       "      <td>0.400000</td>\n",
       "      <td>0.841270</td>\n",
       "      <td>0.25</td>\n",
       "      <td>1.0</td>\n",
       "      <td>1.0</td>\n",
       "      <td>0.0</td>\n",
       "    </tr>\n",
       "    <tr>\n",
       "      <th>1</th>\n",
       "      <td>5.0</td>\n",
       "      <td>0.636364</td>\n",
       "      <td>0.4</td>\n",
       "      <td>1.0</td>\n",
       "      <td>0.046875</td>\n",
       "      <td>0.142857</td>\n",
       "      <td>0.166667</td>\n",
       "      <td>0.533333</td>\n",
       "      <td>0.380952</td>\n",
       "      <td>0.00</td>\n",
       "      <td>1.0</td>\n",
       "      <td>1.0</td>\n",
       "      <td>0.0</td>\n",
       "    </tr>\n",
       "    <tr>\n",
       "      <th>2</th>\n",
       "      <td>2.0</td>\n",
       "      <td>0.181818</td>\n",
       "      <td>0.6</td>\n",
       "      <td>0.2</td>\n",
       "      <td>0.812500</td>\n",
       "      <td>0.642857</td>\n",
       "      <td>0.111111</td>\n",
       "      <td>0.333333</td>\n",
       "      <td>0.968254</td>\n",
       "      <td>0.25</td>\n",
       "      <td>1.0</td>\n",
       "      <td>1.0</td>\n",
       "      <td>0.0</td>\n",
       "    </tr>\n",
       "    <tr>\n",
       "      <th>3</th>\n",
       "      <td>2.0</td>\n",
       "      <td>0.000000</td>\n",
       "      <td>0.6</td>\n",
       "      <td>0.0</td>\n",
       "      <td>0.437500</td>\n",
       "      <td>1.000000</td>\n",
       "      <td>0.166667</td>\n",
       "      <td>0.000000</td>\n",
       "      <td>1.000000</td>\n",
       "      <td>0.25</td>\n",
       "      <td>1.0</td>\n",
       "      <td>1.0</td>\n",
       "      <td>0.0</td>\n",
       "    </tr>\n",
       "    <tr>\n",
       "      <th>4</th>\n",
       "      <td>6.0</td>\n",
       "      <td>0.545455</td>\n",
       "      <td>0.2</td>\n",
       "      <td>0.4</td>\n",
       "      <td>0.625000</td>\n",
       "      <td>0.071429</td>\n",
       "      <td>0.500000</td>\n",
       "      <td>0.533333</td>\n",
       "      <td>0.238095</td>\n",
       "      <td>0.25</td>\n",
       "      <td>1.0</td>\n",
       "      <td>1.0</td>\n",
       "      <td>0.0</td>\n",
       "    </tr>\n",
       "  </tbody>\n",
       "</table>\n",
       "</div>"
      ],
      "text/plain": [
       "   Manuf  Calories  Protein  Fat    Sodium     Fiber     Carbo    Sugars   \n",
       "0    3.0  0.181818      0.6  0.2  0.406250  0.714286  0.000000  0.400000  \\\n",
       "1    5.0  0.636364      0.4  1.0  0.046875  0.142857  0.166667  0.533333   \n",
       "2    2.0  0.181818      0.6  0.2  0.812500  0.642857  0.111111  0.333333   \n",
       "3    2.0  0.000000      0.6  0.0  0.437500  1.000000  0.166667  0.000000   \n",
       "4    6.0  0.545455      0.2  0.4  0.625000  0.071429  0.500000  0.533333   \n",
       "\n",
       "     Potass  Vitamins  Shelf  Weight  AHFP  \n",
       "0  0.841270      0.25    1.0     1.0   0.0  \n",
       "1  0.380952      0.00    1.0     1.0   0.0  \n",
       "2  0.968254      0.25    1.0     1.0   0.0  \n",
       "3  1.000000      0.25    1.0     1.0   0.0  \n",
       "4  0.238095      0.25    1.0     1.0   0.0  "
      ]
     },
     "execution_count": 924,
     "metadata": {},
     "output_type": "execute_result"
    }
   ],
   "source": [
    "x = df.iloc[:,[0,2,3,4,5,6,7,8,9,10,11,12,13]]\n",
    "x.head(5)"
   ]
  },
  {
   "cell_type": "code",
   "execution_count": 925,
   "id": "03d08a8d",
   "metadata": {},
   "outputs": [
    {
     "data": {
      "text/plain": [
       "0     0.0\n",
       "1     0.0\n",
       "2     0.0\n",
       "3     0.0\n",
       "4     0.0\n",
       "     ... \n",
       "72    0.0\n",
       "73    0.0\n",
       "74    0.0\n",
       "75    0.0\n",
       "76    0.0\n",
       "Name: Type, Length: 77, dtype: float64"
      ]
     },
     "execution_count": 925,
     "metadata": {},
     "output_type": "execute_result"
    }
   ],
   "source": [
    "y=df['Type']\n",
    "y"
   ]
  },
  {
   "cell_type": "code",
   "execution_count": 926,
   "id": "5611424e",
   "metadata": {},
   "outputs": [
    {
     "data": {
      "text/html": [
       "<div>\n",
       "<style scoped>\n",
       "    .dataframe tbody tr th:only-of-type {\n",
       "        vertical-align: middle;\n",
       "    }\n",
       "\n",
       "    .dataframe tbody tr th {\n",
       "        vertical-align: top;\n",
       "    }\n",
       "\n",
       "    .dataframe thead th {\n",
       "        text-align: right;\n",
       "    }\n",
       "</style>\n",
       "<table border=\"1\" class=\"dataframe\">\n",
       "  <thead>\n",
       "    <tr style=\"text-align: right;\">\n",
       "      <th></th>\n",
       "      <th>Date</th>\n",
       "      <th>Profession</th>\n",
       "      <th>Rank</th>\n",
       "      <th>Equipment</th>\n",
       "      <th>Insalubrity</th>\n",
       "      <th>Size_Production</th>\n",
       "    </tr>\n",
       "  </thead>\n",
       "  <tbody>\n",
       "    <tr>\n",
       "      <th>0</th>\n",
       "      <td>-1.593255</td>\n",
       "      <td>-0.884538</td>\n",
       "      <td>1.639844</td>\n",
       "      <td>-0.791257</td>\n",
       "      <td>0.947245</td>\n",
       "      <td>-1.767691</td>\n",
       "    </tr>\n",
       "    <tr>\n",
       "      <th>1</th>\n",
       "      <td>-1.593255</td>\n",
       "      <td>-0.884538</td>\n",
       "      <td>0.864004</td>\n",
       "      <td>-0.791257</td>\n",
       "      <td>0.947245</td>\n",
       "      <td>-1.767691</td>\n",
       "    </tr>\n",
       "    <tr>\n",
       "      <th>2</th>\n",
       "      <td>-1.593255</td>\n",
       "      <td>-0.884538</td>\n",
       "      <td>0.088164</td>\n",
       "      <td>-0.791257</td>\n",
       "      <td>0.947245</td>\n",
       "      <td>-1.767691</td>\n",
       "    </tr>\n",
       "    <tr>\n",
       "      <th>3</th>\n",
       "      <td>-1.593255</td>\n",
       "      <td>-0.884538</td>\n",
       "      <td>0.088164</td>\n",
       "      <td>-0.791257</td>\n",
       "      <td>0.947245</td>\n",
       "      <td>-1.767691</td>\n",
       "    </tr>\n",
       "    <tr>\n",
       "      <th>4</th>\n",
       "      <td>-1.593255</td>\n",
       "      <td>-0.884538</td>\n",
       "      <td>-0.687676</td>\n",
       "      <td>-0.791257</td>\n",
       "      <td>0.947245</td>\n",
       "      <td>-1.767691</td>\n",
       "    </tr>\n",
       "  </tbody>\n",
       "</table>\n",
       "</div>"
      ],
      "text/plain": [
       "       Date  Profession      Rank  Equipment  Insalubrity  Size_Production\n",
       "0 -1.593255   -0.884538  1.639844  -0.791257     0.947245        -1.767691\n",
       "1 -1.593255   -0.884538  0.864004  -0.791257     0.947245        -1.767691\n",
       "2 -1.593255   -0.884538  0.088164  -0.791257     0.947245        -1.767691\n",
       "3 -1.593255   -0.884538  0.088164  -0.791257     0.947245        -1.767691\n",
       "4 -1.593255   -0.884538 -0.687676  -0.791257     0.947245        -1.767691"
      ]
     },
     "execution_count": 926,
     "metadata": {},
     "output_type": "execute_result"
    }
   ],
   "source": [
    "from sklearn.preprocessing import StandardScaler\n",
    "scaler = StandardScaler()\n",
    "scaler.fit(X)\n",
    "scaled_x = scaler.fit_transform(X)\n",
    "X = pd.DataFrame(scaled_x, columns=X.columns)\n",
    "X.head(5)"
   ]
  },
  {
   "cell_type": "code",
   "execution_count": null,
   "id": "c38574ab",
   "metadata": {},
   "outputs": [],
   "source": []
  },
  {
   "cell_type": "markdown",
   "id": "56fe1c6b",
   "metadata": {},
   "source": [
    "#### Modelo con Random Forest (Bosques aleatorios)"
   ]
  },
  {
   "cell_type": "code",
   "execution_count": 927,
   "id": "2532839e",
   "metadata": {},
   "outputs": [
    {
     "name": "stderr",
     "output_type": "stream",
     "text": [
      "C:\\Users\\Usuario1\\AppData\\Roaming\\Python\\Python311\\site-packages\\sklearn\\model_selection\\_split.py:700: UserWarning: The least populated class in y has only 3 members, which is less than n_splits=5.\n",
      "  warnings.warn(\n"
     ]
    },
    {
     "name": "stdout",
     "output_type": "stream",
     "text": [
      "[0.9375     0.9375     1.         1.         0.93333333]\n",
      "0.9616666666666667\n"
     ]
    }
   ],
   "source": [
    "from sklearn.model_selection import train_test_split as tts\n",
    "from sklearn.metrics import accuracy_score\n",
    "from sklearn.metrics import confusion_matrix\n",
    "from sklearn.model_selection import cross_val_score\n",
    "from sklearn.ensemble import RandomForestClassifier\n",
    "\n",
    "modelo = RandomForestClassifier(random_state=0)\n",
    "\n",
    "scores = cross_val_score(modelo, x, y,scoring=\"accuracy\",cv=5, n_jobs=-1)\n",
    "print(scores)\n",
    "print(np.mean(scores))"
   ]
  },
  {
   "cell_type": "code",
   "execution_count": 928,
   "id": "abe53da6",
   "metadata": {},
   "outputs": [
    {
     "data": {
      "text/plain": [
       "0.9375"
      ]
     },
     "execution_count": 928,
     "metadata": {},
     "output_type": "execute_result"
    }
   ],
   "source": [
    "x_train, x_test, y_train, y_test = tts(x,y, test_size=0.2)\n",
    "arbol_c =modelo.fit(x_train,y_train)\n",
    "y_pred= modelo.predict(x_test)\n",
    "accuracy_score(y_test,y_pred)"
   ]
  },
  {
   "cell_type": "code",
   "execution_count": 929,
   "id": "175e1970",
   "metadata": {},
   "outputs": [
    {
     "name": "stdout",
     "output_type": "stream",
     "text": [
      "[[15  1]\n",
      " [ 0  0]]\n"
     ]
    }
   ],
   "source": [
    "C=confusion_matrix(y_pred, y_test)\n",
    "print(C)"
   ]
  },
  {
   "cell_type": "code",
   "execution_count": 930,
   "id": "d20fe01c",
   "metadata": {},
   "outputs": [],
   "source": [
    "# Redes neuronales TensorFlow"
   ]
  },
  {
   "cell_type": "code",
   "execution_count": 940,
   "id": "e7cd38e9",
   "metadata": {},
   "outputs": [
    {
     "name": "stdout",
     "output_type": "stream",
     "text": [
      "Model: \"sequential_42\"\n",
      "_________________________________________________________________\n",
      " Layer (type)                Output Shape              Param #   \n",
      "=================================================================\n",
      " dense_126 (Dense)           (None, 74)                1036      \n",
      "                                                                 \n",
      " dense_127 (Dense)           (None, 50)                3750      \n",
      "                                                                 \n",
      " dense_128 (Dense)           (None, 5)                 255       \n",
      "                                                                 \n",
      "=================================================================\n",
      "Total params: 5,041\n",
      "Trainable params: 5,041\n",
      "Non-trainable params: 0\n",
      "_________________________________________________________________\n"
     ]
    }
   ],
   "source": [
    "from sklearn.model_selection import  cross_val_score\n",
    "from sklearn.metrics import accuracy_score\n",
    "import tensorflow.keras as keras\n",
    "from tensorflow.keras.models import Sequential\n",
    "from tensorflow.keras.layers import Dense\n",
    "import numpy as np\n",
    "\n",
    "\n",
    "model = Sequential()\n",
    "model.add(Dense(units=74, input_dim=13, activation=\"relu\"))\n",
    "model.add(Dense(units=50, activation=\"relu\"))\n",
    "model.add(Dense(units=5, activation=\"softmax\"))\n",
    "model.compile(optimizer='adam', loss='sparse_categorical_crossentropy', metrics=['accuracy'])\n",
    "\n",
    "model.summary()"
   ]
  },
  {
   "cell_type": "code",
   "execution_count": 944,
   "id": "afcfb53c",
   "metadata": {},
   "outputs": [
    {
     "name": "stdout",
     "output_type": "stream",
     "text": [
      "1/1 [==============================] - 0s 156ms/step\n",
      "1/1 [==============================] - 0s 47ms/step\n",
      "1/1 [==============================] - 0s 47ms/step\n",
      "1/1 [==============================] - 0s 47ms/step\n",
      "1/1 [==============================] - 0s 47ms/step\n",
      "Puntajes de precisión en cada pliegue: [0.875, 1.0, 1.0, 1.0, 1.0]\n",
      "Promedio:  0.975\n"
     ]
    }
   ],
   "source": [
    "acc = []\n",
    "\n",
    "# Realiza la validación cruzada utilizando train_test_split\n",
    "for contador in range(0, 5):\n",
    "    x_train, x_test, y_train, y_test = tts(x, y, test_size=0.2)\n",
    "\n",
    "    # Entrena el modelo en los datos de entrenamiento\n",
    "    historial = model.fit(x_train, y_train, epochs=300, verbose=False)\n",
    "\n",
    "    y_pred = model.predict(x_test)\n",
    "    res = np.argmax(y_pred, axis=1)\n",
    "    r =  accuracy_score(y_test, res)\n",
    "    acc.append(r)\n",
    "\n",
    "\n",
    "# Imprimir los resultados\n",
    "print(\"Puntajes de precisión en cada pliegue:\", acc)\n",
    "print('Promedio: ', np.mean(acc))\n"
   ]
  },
  {
   "cell_type": "code",
   "execution_count": 945,
   "id": "63d67160",
   "metadata": {},
   "outputs": [
    {
     "data": {
      "text/plain": [
       "[<matplotlib.lines.Line2D at 0x2543df13f10>]"
      ]
     },
     "execution_count": 945,
     "metadata": {},
     "output_type": "execute_result"
    },
    {
     "data": {
      "image/png": "[encoded data removed]",
      "text/plain": [
       "<Figure size 640x480 with 1 Axes>"
      ]
     },
     "metadata": {},
     "output_type": "display_data"
    }
   ],
   "source": [
    "import matplotlib.pyplot as plt\n",
    "plt.xlabel(\"# Epoca\")\n",
    "plt.ylabel(\"Magnitud de pérdida\")\n",
    "plt.plot(historial.history[\"loss\"])"
   ]
  },
  {
   "cell_type": "code",
   "execution_count": 947,
   "id": "72816db6",
   "metadata": {},
   "outputs": [
    {
     "name": "stdout",
     "output_type": "stream",
     "text": [
      "[[15  0]\n",
      " [ 0  1]]\n"
     ]
    }
   ],
   "source": [
    "from sklearn.metrics import confusion_matrix\n",
    "C=confusion_matrix(res, y_test)\n",
    "print(C)"
   ]
  },
  {
   "cell_type": "code",
   "execution_count": null,
   "id": "f4a55909",
   "metadata": {},
   "outputs": [],
   "source": []
  }
 ],
 "metadata": {
  "kernelspec": {
   "display_name": "Python 3 (ipykernel)",
   "language": "python",
   "name": "python3"
  },
  "language_info": {
   "codemirror_mode": {
    "name": "ipython",
    "version": 3
   },
   "file_extension": ".py",
   "mimetype": "text/x-python",
   "name": "python",
   "nbconvert_exporter": "python",
   "pygments_lexer": "ipython3",
   "version": "3.11.3"
  }
 },
 "nbformat": 4,
 "nbformat_minor": 5
}
